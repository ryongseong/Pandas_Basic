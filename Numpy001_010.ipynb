{
 "cells": [
  {
   "cell_type": "code",
   "execution_count": 1,
   "metadata": {},
   "outputs": [],
   "source": [
    "import numpy as np"
   ]
  },
  {
   "cell_type": "code",
   "execution_count": 9,
   "metadata": {},
   "outputs": [
    {
     "data": {
      "text/plain": [
       "array([1, 2, 3])"
      ]
     },
     "execution_count": 9,
     "metadata": {},
     "output_type": "execute_result"
    }
   ],
   "source": [
    "data = [1, 2, 3]\n",
    "np.array(data)"
   ]
  },
  {
   "cell_type": "code",
   "execution_count": 10,
   "metadata": {},
   "outputs": [
    {
     "data": {
      "text/plain": [
       "array([ 0,  1,  2,  3,  4,  5,  6,  7,  8,  9, 10, 11, 12, 13, 14, 15, 16,\n",
       "       17, 18, 19, 20, 21, 22, 23, 24, 25, 26, 27, 28, 29, 30, 31, 32, 33,\n",
       "       34, 35, 36, 37, 38, 39, 40, 41, 42, 43, 44, 45, 46, 47, 48, 49, 50,\n",
       "       51, 52, 53, 54, 55, 56, 57, 58, 59, 60, 61, 62, 63, 64, 65, 66, 67,\n",
       "       68, 69, 70, 71, 72, 73, 74, 75, 76, 77, 78, 79, 80, 81, 82, 83, 84,\n",
       "       85, 86, 87, 88, 89, 90, 91, 92, 93, 94, 95, 96, 97, 98, 99])"
      ]
     },
     "execution_count": 10,
     "metadata": {},
     "output_type": "execute_result"
    }
   ],
   "source": [
    "np.arange(100)"
   ]
  },
  {
   "cell_type": "code",
   "execution_count": 14,
   "metadata": {},
   "outputs": [
    {
     "data": {
      "text/plain": [
       "array([ 3,  6,  9, 12, 15, 18, 21, 24, 27])"
      ]
     },
     "execution_count": 14,
     "metadata": {},
     "output_type": "execute_result"
    }
   ],
   "source": [
    "arr = np.arange(1, 10) * 3\n",
    "arr"
   ]
  },
  {
   "cell_type": "code",
   "execution_count": 17,
   "metadata": {},
   "outputs": [
    {
     "name": "stdout",
     "output_type": "stream",
     "text": [
      "[  2   4   6   8  10  12  14  16  18  20  22  24  26  28  30  32  34  36\n",
      "  38  40  42  44  46  48  50  52  54  56  58  60  62  64  66  68  70  72\n",
      "  74  76  78  80  82  84  86  88  90  92  94  96  98 100 102 104 106 108\n",
      " 110 112 114 116 118 120 122 124 126 128 130 132 134 136 138 140 142 144\n",
      " 146 148 150 152 154 156 158 160 162 164 166 168 170 172 174 176 178 180\n",
      " 182 184 186 188 190 192 194 196 198 200 202 204 206 208 210 212 214 216\n",
      " 218 220 222 224 226 228 230 232 234 236 238 240 242 244 246 248 250 252\n",
      " 254 256 258 260 262 264 266 268 270 272 274 276 278 280 282 284 286 288\n",
      " 290 292 294 296 298 300 302 304 306 308 310 312 314 316 318 320 322 324\n",
      " 326 328 330 332 334 336 338 340 342 344 346 348 350 352 354 356 358 360\n",
      " 362 364 366 368 370 372 374 376 378 380 382 384 386 388 390 392 394 396\n",
      " 398 400 402 404 406 408 410 412 414 416 418 420 422 424 426 428 430 432\n",
      " 434 436 438 440 442 444 446 448 450 452 454 456 458 460 462 464 466 468\n",
      " 470 472 474 476 478 480 482 484 486 488 490 492 494 496 498 500 502 504\n",
      " 506 508 510 512 514 516 518 520 522 524 526 528 530 532 534 536 538 540\n",
      " 542 544 546 548 550 552 554 556 558 560 562 564 566 568 570 572 574 576\n",
      " 578 580 582 584 586 588 590 592 594 596 598 600 602 604 606 608 610 612\n",
      " 614 616 618 620 622 624 626 628 630 632 634 636 638 640 642 644 646 648\n",
      " 650 652 654 656 658 660 662 664 666 668 670 672 674 676 678 680 682 684\n",
      " 686 688 690 692 694 696 698 700 702 704 706 708 710 712 714 716 718 720\n",
      " 722 724 726 728 730 732 734 736 738 740 742 744 746 748 750 752 754 756\n",
      " 758 760 762 764 766 768 770 772 774 776 778 780 782 784 786 788 790 792\n",
      " 794 796 798 800 802 804 806 808 810 812 814 816 818 820 822 824 826 828\n",
      " 830 832 834 836 838 840 842 844 846 848 850 852 854 856 858 860 862 864\n",
      " 866 868 870 872 874 876 878 880 882 884 886 888 890 892 894 896 898 900\n",
      " 902 904 906 908 910 912 914 916 918 920 922 924 926 928 930 932 934 936\n",
      " 938 940 942 944 946 948 950 952 954 956 958 960 962 964 966 968 970 972\n",
      " 974 976 978 980 982 984 986 988 990 992 994 996 998]\n"
     ]
    }
   ],
   "source": [
    "arr = np.arange(2, 1000, 2)\n",
    "print(arr)"
   ]
  },
  {
   "cell_type": "code",
   "execution_count": 19,
   "metadata": {},
   "outputs": [
    {
     "data": {
      "text/plain": [
       "array([0. , 0.1, 0.2, 0.3, 0.4, 0.5, 0.6, 0.7, 0.8, 0.9])"
      ]
     },
     "execution_count": 19,
     "metadata": {},
     "output_type": "execute_result"
    }
   ],
   "source": [
    "np.arange(0, 1, 0.1)"
   ]
  },
  {
   "cell_type": "code",
   "execution_count": 26,
   "metadata": {},
   "outputs": [
    {
     "data": {
      "text/plain": [
       "array([[0, 1, 2],\n",
       "       [3, 4, 5]])"
      ]
     },
     "execution_count": 26,
     "metadata": {},
     "output_type": "execute_result"
    }
   ],
   "source": [
    "data = [0, 1, 2, 3, 4, 5]\n",
    "arr = np.array(data)\n",
    "arr.reshape(2, 3)"
   ]
  },
  {
   "cell_type": "code",
   "execution_count": 27,
   "metadata": {},
   "outputs": [
    {
     "data": {
      "text/plain": [
       "array([0, 1, 2, 3, 4, 5])"
      ]
     },
     "execution_count": 27,
     "metadata": {},
     "output_type": "execute_result"
    }
   ],
   "source": [
    "arr = np.array([\n",
    "    [0, 1, 2],\n",
    "    [3, 4, 5]\n",
    "])\n",
    "\n",
    "arr.reshape(6)"
   ]
  },
  {
   "cell_type": "code",
   "execution_count": 35,
   "metadata": {},
   "outputs": [
    {
     "data": {
      "text/plain": [
       "array([[0],\n",
       "       [1],\n",
       "       [2]])"
      ]
     },
     "execution_count": 35,
     "metadata": {},
     "output_type": "execute_result"
    }
   ],
   "source": [
    "arr = np.arange(3)\n",
    "arr.reshape(3, 1)"
   ]
  }
 ],
 "metadata": {
  "kernelspec": {
   "display_name": "base",
   "language": "python",
   "name": "python3"
  },
  "language_info": {
   "codemirror_mode": {
    "name": "ipython",
    "version": 3
   },
   "file_extension": ".py",
   "mimetype": "text/x-python",
   "name": "python",
   "nbconvert_exporter": "python",
   "pygments_lexer": "ipython3",
   "version": "3.10.9"
  }
 },
 "nbformat": 4,
 "nbformat_minor": 2
}
